{
 "cells": [
  {
   "cell_type": "code",
   "execution_count": 1,
   "id": "a61e6715",
   "metadata": {},
   "outputs": [
    {
     "name": "stdout",
     "output_type": "stream",
     "text": [
      "Enter radius: 9\n",
      "254.34\n"
     ]
    }
   ],
   "source": [
    "\n",
    "\n",
    "radius=float(input(\"Enter radius: \"))\n",
    "pi=3.14\n",
    "area=pi*(radius**2)\n",
    "print(area)\n",
    "\n"
   ]
  },
  {
   "cell_type": "code",
   "execution_count": 2,
   "id": "587cd1ee",
   "metadata": {},
   "outputs": [
    {
     "name": "stdout",
     "output_type": "stream",
     "text": [
      "Twinkle, twinkle, little star\n",
      "                 How I wonder what you are\n",
      "                    Up above the world so high,\n",
      "                    Like a diamond in the sky,\n",
      "Twinkle, twinkle, little star,\n",
      "        How I wonder what you are\n"
     ]
    }
   ],
   "source": [
    "\n",
    "print(\"\"\"Twinkle, twinkle, little star\n",
    "                 How I wonder what you are\n",
    "                    Up above the world so high,\n",
    "                    Like a diamond in the sky,\n",
    "Twinkle, twinkle, little star,\n",
    "        How I wonder what you are\"\"\")\n",
    "\n",
    "\n"
   ]
  },
  {
   "cell_type": "code",
   "execution_count": 3,
   "id": "df7be896",
   "metadata": {},
   "outputs": [
    {
     "name": "stdout",
     "output_type": "stream",
     "text": [
      "Enter first name: Akbar Ali\n",
      "Enter last name: Ahmad\n",
      "Ahmad Akbar Ali\n"
     ]
    }
   ],
   "source": [
    "\n",
    "first_name=input(\"Enter first name: \")\n",
    "last_name=input(\"Enter last name: \")\n",
    "print(last_name+\" \"+first_name)"
   ]
  },
  {
   "cell_type": "code",
   "execution_count": 4,
   "id": "68b965cd",
   "metadata": {},
   "outputs": [
    {
     "name": "stdout",
     "output_type": "stream",
     "text": [
      "Enter 1st number: 6\n",
      "Enter 2nd number: 7\n",
      "13\n"
     ]
    }
   ],
   "source": [
    "\n",
    "A=int(input(\"Enter 1st number: \"))\n",
    "B=int(input(\"Enter 2nd number: \"))\n",
    "c=A+B\n",
    "print(c)\n",
    "\n"
   ]
  },
  {
   "cell_type": "code",
   "execution_count": 5,
   "id": "ce4169ee",
   "metadata": {},
   "outputs": [
    {
     "name": "stdout",
     "output_type": "stream",
     "text": [
      "Date is 1-6-2021\n",
      "Time is 7:35 pm\n"
     ]
    }
   ],
   "source": [
    "\n",
    "date=\"1-6-2021\"\n",
    "time=\"7:35 pm\"\n",
    "print(\"Date is\",date)\n",
    "print(\"Time is\",time)\n",
    "\n",
    "\n"
   ]
  },
  {
   "cell_type": "code",
   "execution_count": 6,
   "id": "b5646b4e",
   "metadata": {},
   "outputs": [
    {
     "name": "stdout",
     "output_type": "stream",
     "text": [
      "The version of python which we are using is 3.9\n"
     ]
    }
   ],
   "source": [
    "print(\"The version of python which we are using is\",3.9)\n"
   ]
  },
  {
   "cell_type": "code",
   "execution_count": null,
   "id": "d82838c0",
   "metadata": {},
   "outputs": [],
   "source": []
  }
 ],
 "metadata": {
  "kernelspec": {
   "display_name": "Python 3 (ipykernel)",
   "language": "python",
   "name": "python3"
  },
  "language_info": {
   "codemirror_mode": {
    "name": "ipython",
    "version": 3
   },
   "file_extension": ".py",
   "mimetype": "text/x-python",
   "name": "python",
   "nbconvert_exporter": "python",
   "pygments_lexer": "ipython3",
   "version": "3.9.7"
  }
 },
 "nbformat": 4,
 "nbformat_minor": 5
}
